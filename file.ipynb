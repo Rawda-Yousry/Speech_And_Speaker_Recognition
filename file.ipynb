{
 "cells": [
  {
   "cell_type": "code",
   "execution_count": 1,
   "metadata": {},
   "outputs": [],
   "source": [
    "import librosa as librosa\n",
    "import librosa.display\n",
    "import IPython.display as ipd\n",
    "import numpy as np\n",
    "import csv\n",
    "import pandas as pd\n"
   ]
  },
  {
   "cell_type": "code",
   "execution_count": 2,
   "metadata": {},
   "outputs": [
    {
     "name": "stdout",
     "output_type": "stream",
     "text": [
      "CSV Header:  ['filename', 'chroma_stft', 'rmse', 'spectral_centroid', 'spectral_bandwidth', 'rolloff', 'zero_crossing_rate', 'mfcc1', 'mfcc2', 'mfcc3', 'mfcc4', 'mfcc5', 'mfcc6', 'mfcc7', 'mfcc8', 'mfcc9', 'mfcc10', 'mfcc11', 'mfcc12', 'mfcc13', 'mfcc14', 'mfcc15', 'mfcc16', 'mfcc17', 'mfcc18', 'mfcc19', 'mfcc20', 'label']\n",
      "Habiba_Fathalah_1.wav\n",
      "Habiba_Fathalah_10.wav\n",
      "Habiba_Fathalah_2.wav\n",
      "Habiba_Fathalah_3.wav\n",
      "Habiba_Fathalah_4.wav\n",
      "Habiba_Fathalah_5.wav\n",
      "Habiba_Fathalah_6.wav\n",
      "Habiba_Fathalah_7.wav\n",
      "Habiba_Fathalah_8.wav\n",
      "Habiba_Fathalah_9.wav\n",
      "Rawda_Yousry_1.wav\n",
      "Rawda_Yousry_10.wav\n",
      "Rawda_Yousry_2.wav\n",
      "Rawda_Yousry_3.wav\n",
      "Rawda_Yousry_4.wav\n",
      "Rawda_Yousry_5.wav\n",
      "Rawda_Yousry_6.wav\n",
      "Rawda_Yousry_7.wav\n",
      "Rawda_Yousry_8.wav\n",
      "Rawda_Yousry_9.wav\n",
      "Shirouq_Shawky_1.wav\n",
      "Shirouq_Shawky_10.wav\n",
      "Shirouq_Shawky_2.wav\n",
      "Shirouq_Shawky_3.wav\n",
      "Shirouq_Shawky_4.wav\n",
      "Shirouq_Shawky_5.wav\n",
      "Shirouq_Shawky_6.wav\n",
      "Shirouq_Shawky_7.wav\n",
      "Shirouq_Shawky_8.wav\n",
      "Shirouq_Shawky_9.wav\n"
     ]
    }
   ],
   "source": [
    "\n",
    "header = 'filename chroma_stft rmse spectral_centroid spectral_bandwidth rolloff zero_crossing_rate'\n",
    "\n",
    "for i in range(1, 21):\n",
    "    header += f' mfcc{i}'\n",
    "header += ' label'\n",
    "header = header.split()\n",
    "print('CSV Header: ', header)\n",
    "file = open(\"data.csv\", 'w', newline='')\n",
    "writer = csv.writer(file)\n",
    "writer.writerow(header)\n",
    "file.close()\n",
    "\n",
    "\n",
    "def writeCsv(data):\n",
    "    file = open(\"data.csv\", 'a', newline='')\n",
    "    writer = csv.writer(file)\n",
    "    writer.writerow(data.split())\n",
    "    file.close()\n",
    "\n",
    "\n",
    "\n",
    "def feature_extraction(file_path):\n",
    "    # iterate through all file\n",
    "        y, sr = librosa.load(file_path, mono=True, duration=30)\n",
    "            # remove leading and trailing silence\n",
    "        y, index = librosa.effects.trim(y)\n",
    "        chroma_stft = librosa.feature.chroma_stft(y=y, sr=sr)\n",
    "        rmse = librosa.feature.rms(y=y)\n",
    "        spec_cent = librosa.feature.spectral_centroid(y=y, sr=sr)\n",
    "        spec_bw = librosa.feature.spectral_bandwidth(y=y, sr=sr)\n",
    "        rolloff = librosa.feature.spectral_rolloff(y=y, sr=sr)\n",
    "        zcr = librosa.feature.zero_crossing_rate(y)\n",
    "        mfcc = librosa.feature.mfcc(y=y, sr=sr)\n",
    "        to_append = f'{file} {np.mean(chroma_stft)} {np.mean(rmse)} {np.mean(spec_cent)} {np.mean(spec_bw)} {np.mean(rolloff)} {np.mean(zcr)}'\n",
    "        for e in mfcc:\n",
    "            to_append += f' {np.mean(e)}'\n",
    "        \n",
    "        writeCsv(to_append)\n",
    "        return to_append\n",
    "        \n",
    "path ='Test1'\n",
    "for file in os.listdir(path):\n",
    "    print(file)\n",
    "    file_path = f\"{path}\\{file}\"\n",
    "    data = feature_extraction(file_path)\n",
    "\n",
    "\n",
    "    "
   ]
  },
  {
   "cell_type": "code",
   "execution_count": null,
   "metadata": {},
   "outputs": [],
   "source": []
  },
  {
   "cell_type": "code",
   "execution_count": 4,
   "metadata": {},
   "outputs": [],
   "source": []
  },
  {
   "cell_type": "code",
   "execution_count": null,
   "metadata": {},
   "outputs": [],
   "source": [
    "\n"
   ]
  }
 ],
 "metadata": {
  "kernelspec": {
   "display_name": "Python 3.10.8 64-bit",
   "language": "python",
   "name": "python3"
  },
  "language_info": {
   "codemirror_mode": {
    "name": "ipython",
    "version": 3
   },
   "file_extension": ".py",
   "mimetype": "text/x-python",
   "name": "python",
   "nbconvert_exporter": "python",
   "pygments_lexer": "ipython3",
   "version": "3.10.8"
  },
  "orig_nbformat": 4,
  "vscode": {
   "interpreter": {
    "hash": "066c93a42b719fda8f3d219905fc0da218e6fe5eda9de3721c6e388841268227"
   }
  }
 },
 "nbformat": 4,
 "nbformat_minor": 2
}
